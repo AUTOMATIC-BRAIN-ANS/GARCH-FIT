{
 "cells": [
  {
   "cell_type": "markdown",
   "metadata": {},
   "source": [
    "# Exploratory Data Analysis"
   ]
  },
  {
   "cell_type": "markdown",
   "metadata": {},
   "source": [
    "---"
   ]
  },
  {
   "cell_type": "markdown",
   "metadata": {},
   "source": [
    "#### Author: Damian Pietroń & Dominik Cedro"
   ]
  },
  {
   "cell_type": "markdown",
   "metadata": {},
   "source": [
    "---"
   ]
  },
  {
   "cell_type": "markdown",
   "metadata": {},
   "source": [
    "## Imports"
   ]
  },
  {
   "cell_type": "markdown",
   "metadata": {},
   "source": [
    "- Access the directory containing the CSV files.\n",
    "- Store the paths of all CSV files in the `all_csv` variable, which is of type `list[string]`."
   ]
  },
  {
   "cell_type": "code",
   "metadata": {
    "ExecuteTime": {
     "end_time": "2024-08-08T10:15:21.757518Z",
     "start_time": "2024-08-08T10:15:21.118295Z"
    }
   },
   "source": [
    "import pandas as pd \n",
    "import numpy as np\n",
    "import matplotlib.pyplot as plt\n",
    "from tqdm import tqdm\n",
    "from pathlib import Path\n",
    "import datetime\n",
    "import xlrd\n",
    "from tabulate import tabulate\n",
    "import seaborn as sns\n",
    "# import neurokit2 as nk \n",
    "import os\n",
    "from statsmodels.tsa.stattools import acf, q_stat\n",
    "from statsmodels.tsa.seasonal import seasonal_decompose\n",
    "\n",
    "from scipy.stats import skew, kurtosis\n",
    "from sklearn.preprocessing import StandardScaler"
   ],
   "outputs": [],
   "execution_count": 3
  },
  {
   "cell_type": "code",
   "metadata": {
    "ExecuteTime": {
     "end_time": "2024-08-08T10:15:21.939742Z",
     "start_time": "2024-08-08T10:15:21.934848Z"
    }
   },
   "source": [
    "data_folder = Path(\"data_clean\") \n",
    "all_csv = list(data_folder.glob(\"*.csv\"))"
   ],
   "outputs": [],
   "execution_count": 4
  },
  {
   "cell_type": "markdown",
   "metadata": {},
   "source": [
    "---"
   ]
  },
  {
   "cell_type": "markdown",
   "metadata": {},
   "source": [
    "## Preprocessing"
   ]
  },
  {
   "cell_type": "markdown",
   "metadata": {},
   "source": [
    "- Initialize the `data_frames` dictionary to hold the DataFrame for each patient's data.\n",
    "- Encode `day` & `hour` & `time` columns\n",
    "- Set `DateTime` as an index of data\n",
    "- Note: DataTime column was encoded into `pd.DataTime` when df was cleaned"
   ]
  },
  {
   "cell_type": "markdown",
   "metadata": {},
   "source": [
    "`data_frames` structure: \n",
    "\n",
    "| Key        | Type   | Value          | Type              |\n",
    "|------------|--------|----------------|-------------------|\n",
    "| `file_name`| string | `patient_data` | `pd.DataFrame`    |"
   ]
  },
  {
   "cell_type": "code",
   "metadata": {
    "ExecuteTime": {
     "end_time": "2024-08-08T10:15:21.980619Z",
     "start_time": "2024-08-08T10:15:21.975134Z"
    }
   },
   "source": [
    "def time_encoder(df):\n",
    "  \"\"\"\n",
    "  Encode time features from datetime column\n",
    "  \n",
    "  Args:\n",
    "      df (DataFrame): Dataframe to encode time features\n",
    "      \n",
    "  Returns:\n",
    "      df (DataFrame): Dataframe with encoded time features\n",
    "  \"\"\"\n",
    "  df['time'] = pd.to_datetime(df['DateTime'])\n",
    "  df['hour'] = df['time'].dt.hour\n",
    "  df['day'] = df['time'].dt.day\n",
    "  return df"
   ],
   "outputs": [],
   "execution_count": 5
  },
  {
   "cell_type": "code",
   "metadata": {
    "ExecuteTime": {
     "end_time": "2024-08-08T10:15:22.375435Z",
     "start_time": "2024-08-08T10:15:22.041865Z"
    }
   },
   "source": [
    "data_frames = {}\n",
    "for file in tqdm(all_csv):\n",
    "  df = pd.read_csv(file, sep=\",\", decimal=\".\")\n",
    "  time_encoder(df)\n",
    "  df.set_index('DateTime', inplace=True)\n",
    "  data_frames[file.stem] = df"
   ],
   "outputs": [
    {
     "name": "stderr",
     "output_type": "stream",
     "text": [
      "100%|██████████| 5/5 [00:00<00:00, 17.92it/s]\n"
     ]
    }
   ],
   "execution_count": 6
  },
  {
   "cell_type": "markdown",
   "metadata": {},
   "source": [
    "---"
   ]
  },
  {
   "cell_type": "markdown",
   "metadata": {},
   "source": [
    "## Data Understanding"
   ]
  },
  {
   "cell_type": "markdown",
   "metadata": {},
   "source": [
    "- print basic descryption of data \n",
    "  - we can see that mean of std threw dataframes is around  8 [a.u]\n",
    "  - This is vital inforamtion because we would be using `neg_mean_sqaure_error` for models so in order to see how our model performs we should compare its score to this std \n",
    "- plot pairplot to see how data is distributed \n",
    "  - here we can see that `day` is not highly distibuted and we may want to exclude it from features\n",
    "  - also we can see that `hour` variable is highly distibuted so it might have strong correlation between `ABP` variable\n",
    "- We have massive amount of features so we might not want to engineer them futurer beacuse it would massively increase dimensionality of data - this is my hypothesis **Damian Pietroń** "
   ]
  },
  {
   "cell_type": "code",
   "metadata": {
    "ExecuteTime": {
     "end_time": "2024-08-08T10:15:22.512914Z",
     "start_time": "2024-08-08T10:15:22.376443Z"
    }
   },
   "source": [
    "for key, df in data_frames.items():\n",
    "    print(f\"DataFrame: {key}\")\n",
    "    print(tabulate(df.describe(), headers='keys', tablefmt='pretty'))\n",
    "    print(\"\\n\")  "
   ],
   "outputs": [
    {
     "name": "stdout",
     "output_type": "stream",
     "text": [
      "DataFrame: PAC06_cleaned\n",
      "+-------+-------------------+--------------------+--------------------+--------------------+---------------------+--------------------+---------------------+--------------------+--------------------+--------------------+-------------------+--------------------+---------------------+-------------------------------+-------------------+--------------------+\n",
      "|       |        ABP        |   ABP_BaroIndex    | ABP_HRVstats_RMSSD | ABP_HRVstats_SDSD  |    ABP_HRVpsd_LF    |   ABP_HRVpsd_HF    | ABP_HRVpsd_LF_to_HF |   ABP_HRVpsd_TP    |    ABP_FundAmp     |         HR         |        ICP        |       ETCO2        |         Prx         |             time              |       hour        |        day         |\n",
      "+-------+-------------------+--------------------+--------------------+--------------------+---------------------+--------------------+---------------------+--------------------+--------------------+--------------------+-------------------+--------------------+---------------------+-------------------------------+-------------------+--------------------+\n",
      "| count |      3306.0       |       3306.0       |       3305.0       |       3305.0       |       3306.0        |       3306.0       |       3306.0        |       3306.0       |       3306.0       |       3306.0       |      3306.0       |       3300.0       |       3306.0        |             3306              |      3306.0       |       3306.0       |\n",
      "| mean  | 72.83220972600323 |  4.25442084491641  | 20.95012995989722  | 22.044806037429257 | 116.68133698087385  | 245.9674859112792  | 0.2291584581843002  | 798.8960881932516  | 17.058170705259318 | 90.10083207299859  | 16.7455441901369  |  4.36042249025974  | 0.5306927750290477  | 2012-02-19 09:03:39.967976192 | 11.24258923169994 | 18.888384754990927 |\n",
      "|  min  |       40.01       |       1.271        |       6.872        |       6.849        |       0.0324        |       0.6929       |       0.0049        |       23.94        |       11.23        |       52.84        |       4.221       |       2.445        |       -0.9006       |  2012-02-17 01:35:36.450000   |        0.0        |        17.0        |\n",
      "|  25%  |       68.75       |       2.004        |       11.62        |       12.04        | 0.47054999999999997 | 7.012393382352941  |       0.0624        |    67.655859375    |       15.56        |      75.5225       |       12.16       |       3.896        | 0.28922499999999995 | 2012-02-17 16:29:51.449999872 |        6.0        |        17.0        |\n",
      "|  50%  |       73.44       | 2.6541428571428574 |       13.79        |       14.18        | 15.120000000000001  |       52.975       |       0.1307        |       167.7        |       16.81        | 94.36629032258065  |       16.51       |        4.31        |       0.6776        | 2012-02-18 13:47:06.449999872 |       11.0        |        18.0        |\n",
      "|  75%  |      78.755       |      5.71875       |       26.56        |       28.16        |      85.28375       |       333.2        |      0.255825       |      778.225       | 18.00916666666667  |       104.3        | 21.34361111111111 |       4.851        | 0.8572249999999999  |  2012-02-21 00:22:16.740000   |       17.0        |        21.0        |\n",
      "|  max  |       90.33       |       16.61        |       141.7        |       151.7        |       4124.0        |       2373.0       |        1.971        |      15764.0       |       24.08        |       128.2        |       34.32       |       6.044        |       0.9999        |  2012-02-21 21:40:10.400000   |       23.0        |        21.0        |\n",
      "|  std  | 7.674115728180839 | 2.938571374690192  | 14.675301914663935 | 15.562834084193193 | 339.53345394427015  | 382.21834811026906 | 0.3001184148601551  | 1667.6973517144497 | 2.2289672761012502 | 18.605214609719887 | 5.707893556692416 | 0.6734670342581821 | 0.4110957486549086  |              nan              | 6.596139783328054 | 1.679439966322544  |\n",
      "+-------+-------------------+--------------------+--------------------+--------------------+---------------------+--------------------+---------------------+--------------------+--------------------+--------------------+-------------------+--------------------+---------------------+-------------------------------+-------------------+--------------------+\n",
      "\n",
      "\n",
      "DataFrame: PAC07_cleaned\n",
      "+-------+--------------------+--------------------+--------------------+--------------------+--------------------+--------------------+---------------------+-------------------+--------------------+--------------------+--------------------+-------------------+----------------------+-------------------------------+--------------------+-------------------+\n",
      "|       |        ABP         |   ABP_BaroIndex    | ABP_HRVstats_RMSSD | ABP_HRVstats_SDSD  |   ABP_HRVpsd_LF    |   ABP_HRVpsd_HF    | ABP_HRVpsd_LF_to_HF |   ABP_HRVpsd_TP   |    ABP_FundAmp     |         HR         |        ICP         |       ETCO2       |         Prx          |             time              |        hour        |        day        |\n",
      "+-------+--------------------+--------------------+--------------------+--------------------+--------------------+--------------------+---------------------+-------------------+--------------------+--------------------+--------------------+-------------------+----------------------+-------------------------------+--------------------+-------------------+\n",
      "| count |       4502.0       |       4497.0       |       4499.0       |       4499.0       |       4494.0       |       4495.0       |       4494.0        |      4489.0       |       4502.0       |       4501.0       |       4502.0       |      4502.0       |        4501.0        |             4502              |       4502.0       |      4502.0       |\n",
      "| mean  | 69.96539616549252  | 1.446798775109332  | 10.25027265580623  | 10.593446268442236 | 2.4846421049197747 | 29.135416158975744 | 0.03845387758857515 | 86.89490097848612 | 11.574808677624759 | 122.49256252231544 | 25.380642258202705 | 4.273457859469865 |  0.9575343331836808  | 2012-04-21 08:42:00.371004160 | 11.862727676588182 | 20.84762327854287 |\n",
      "|  min  |       32.63        |       0.5405       |       3.885        |       3.984        |       0.0633       |       2.763        |       0.0029        |       25.26       |       5.151        |       96.84        |       9.679        |       3.546       |        0.1879        |  2012-04-19 18:57:17.630000   |        0.0         |       19.0        |\n",
      "|  25%  | 65.36178571428572  |       1.139        |       9.3975       |       9.697        |       0.3165       |       16.03        |        0.014        |       50.91       |      9.87275       |       117.0        | 20.081249999999997 |       3.948       |        0.9428        | 2012-04-20 13:45:32.630000128 |        6.0         |       20.0        |\n",
      "|  50%  |        71.4        |       1.397        |      10.2665       |       10.62        |       0.5484       |       26.44        | 0.02219642857142855 |       66.53       |       11.765       | 124.26377952755904 |       23.17        |      4.1332       |        0.9847        | 2012-04-21 08:36:47.630000128 |        12.0        |       21.0        |\n",
      "|  75%  |        75.8        |       1.718        |       11.15        |       11.54        |     0.95221875     |       37.455       |      0.038692       |       86.47       |       13.25        |       127.6        | 28.205357142857142 |       4.631       |        0.9932        | 2012-04-22 03:46:02.630000128 |        18.0        |       22.0        |\n",
      "|  max  |       108.3        |       4.258        |       13.65        | 17.304666666666666 |       665.0        |       559.0        |        1.356        |      7650.0       |       22.17        |       137.3        |       51.17        |       6.16        |        0.9998        |  2012-04-22 22:34:17.630000   |        23.0        |       22.0        |\n",
      "|  std  | 12.072599382190532 | 0.3834984929062998 | 1.3257319038342164 | 1.4091363240505546 | 28.686396282110408 | 25.17990137948744  | 0.08107305081627046 | 284.7090417343587 | 2.2300174446627907 | 7.601195261695662  | 7.9895684810718315 | 0.431174355297695 | 0.058832383090171046 |              nan              | 6.984655885682406  | 0.92958837181234  |\n",
      "+-------+--------------------+--------------------+--------------------+--------------------+--------------------+--------------------+---------------------+-------------------+--------------------+--------------------+--------------------+-------------------+----------------------+-------------------------------+--------------------+-------------------+\n",
      "\n",
      "\n",
      "DataFrame: PAC08_cleaned\n",
      "+-------+--------------------+-------------------+--------------------+--------------------+--------------------+--------------------+---------------------+--------------------+--------------------+--------------------+--------------------+--------------------+-------------------+--------------------+--------------------+---------------------+-------------------------------+--------------------+--------------------+\n",
      "|       |        ABP         |   ABP_BaroIndex   | ABP_HRVstats_RMSSD | ABP_HRVstats_SDSD  |   ABP_HRVpsd_LF    |   ABP_HRVpsd_HF    | ABP_HRVpsd_LF_to_HF |   ABP_HRVpsd_TP    |    ABP_FundAmp     |         HR         |        ICP         |      STO2LEFT      |     STO2RIGHT     |       ETCO2        |        CO2         |         Prx         |             time              |        hour        |        day         |\n",
      "+-------+--------------------+-------------------+--------------------+--------------------+--------------------+--------------------+---------------------+--------------------+--------------------+--------------------+--------------------+--------------------+-------------------+--------------------+--------------------+---------------------+-------------------------------+--------------------+--------------------+\n",
      "| count |       6299.0       |      6299.0       |       6296.0       |       6299.0       |       6299.0       |       6289.0       |       6299.0        |       6299.0       |       6299.0       |       6289.0       |       6299.0       |       6299.0       |      6299.0       |       6299.0       |       6299.0       |       6299.0        |             6299              |       6299.0       |       6299.0       |\n",
      "| mean  | 84.99247032536238  | 7.367316416626977 | 25.42396357299167  | 26.657305584917946 | 234.27115372072768 | 211.02192196750883 | 1.2911677960409438  | 1415.0065445098269 | 15.34582253537947  | 78.52320294522353  | 12.408246756098853 |  72.913551128686   | 70.0964772124024  |  4.28196041591961  | 1.8845834560824013 | 0.06731121672752288 | 2012-04-28 21:31:15.890122752 | 12.308937926655025 | 25.514843625972375 |\n",
      "|  min  |        59.3        |      0.3942       |       5.321        |       5.524        |        2.77        |       6.055        |       0.1368        |       29.91        |       6.483        |       54.93        |       1.152        |       4.282        |       3.736       |       2.284        |      -0.0012       |       -0.9254       |  2012-04-26 10:28:47.360000   |        0.0         |        1.0         |\n",
      "|  25%  |       75.715       |      2.8015       |       10.16        |       10.625       |        29.5        |       25.36        |       0.60135       | 179.62692307692308 |       12.97        |       68.64        | 6.308999999999999  | 71.38499999999999  |       66.7        |       3.877        |       1.8405       |       -0.1962       | 2012-04-27 15:19:08.310000128 |        6.0         |        27.0        |\n",
      "|  50%  | 81.77000000000001  | 6.279999999999999 |       20.125       |       20.89        |       128.1        |       115.8        |       0.9943        | 687.1363636363637  | 15.346666666666668 |      74.52375      |       12.41        | 74.93833333333333  |       70.55       |       4.195        |        2.01        |       0.0465        | 2012-04-28 19:44:38.310000128 |        13.0        |        28.0        |\n",
      "|  75%  |       93.42        |       10.32       | 33.96222222222222  | 35.424166666666665 |       277.9        |       287.5        |        1.733        |       1511.5       |       17.32        |       89.44        |       17.13        |      77.4325       | 75.01249999999999 | 4.754166666666666  |      2.23625       | 0.30074999999999996 | 2012-04-29 23:29:08.310000128 |        18.0        |        29.0        |\n",
      "|  max  |       119.6        |      30.115       |       155.5        |       164.2        |       3838.0       |       1779.0       |        6.799        |      24013.0       |       25.05        |       118.0        |       32.62        |       93.46        |       91.98       |       7.315        |       4.021        |       0.9951        |  2012-05-01 22:12:12.830000   |        23.0        |        30.0        |\n",
      "|  std  | 11.992192068185174 | 5.190436629958791 | 18.674894359025078 | 19.952890383226038 | 368.35456221765867 | 264.2028777206572  | 0.9214913624125363  | 2425.5040662064116 | 3.0291214689898553 | 11.447866266869454 | 6.282055328874508  | 11.246465976614303 | 9.399595671053376 | 0.6286512160662133 |  0.7186479458925   | 0.35784313534510886 |              nan              | 6.934076993568475  | 8.032319620272373  |\n",
      "+-------+--------------------+-------------------+--------------------+--------------------+--------------------+--------------------+---------------------+--------------------+--------------------+--------------------+--------------------+--------------------+-------------------+--------------------+--------------------+---------------------+-------------------------------+--------------------+--------------------+\n",
      "\n",
      "\n",
      "DataFrame: PAC09_cleaned\n",
      "+-------+-------------------+--------------------+--------------------+--------------------+--------------------+--------------------+---------------------+--------------------+--------------------+--------------------+--------------------+-------------------+-------------------+--------------------+---------------------+----------------------+-------------------------------+--------------------+--------------------+\n",
      "|       |        ABP        |   ABP_BaroIndex    | ABP_HRVstats_RMSSD | ABP_HRVstats_SDSD  |   ABP_HRVpsd_LF    |   ABP_HRVpsd_HF    | ABP_HRVpsd_LF_to_HF |   ABP_HRVpsd_TP    |    ABP_FundAmp     |         HR         |        ICP         |     STO2LEFT      |     STO2RIGHT     |       ETCO2        |         CO2         |         Prx          |             time              |        hour        |        day         |\n",
      "+-------+-------------------+--------------------+--------------------+--------------------+--------------------+--------------------+---------------------+--------------------+--------------------+--------------------+--------------------+-------------------+-------------------+--------------------+---------------------+----------------------+-------------------------------+--------------------+--------------------+\n",
      "| count |      5435.0       |       5435.0       |       5434.0       |       5435.0       |       5435.0       |       5435.0       |       5435.0        |       5435.0       |       5434.0       |       5435.0       |       5435.0       |      5435.0       |      5435.0       |       5433.0       |       5431.0        |        5435.0        |             5435              |       5435.0       |       5435.0       |\n",
      "| mean  | 75.1498975334486  |  4.3813193827485   | 15.468010552071283 | 16.319479774747435 | 140.98911890156555 | 80.56898041075848  | 1.6124146901879814  | 632.6104722231844  | 15.573923198760525 | 80.32270659284141  | 14.40818779953564  | 67.99691013783013 | 69.28111944213236 | 4.506639455184971  | 2.1840247127188044  |  0.1077822378104876  | 2012-05-06 03:47:00.596520448 | 11.401471941122356 | 5.6618215271389145 |\n",
      "|  min  |       56.88       |       1.411        |       5.236        |       5.409        |       3.486        |       2.892        |       0.1499        |       29.06        |       10.02        |       45.49        |       6.378        |       61.87       |       61.6        |       3.629        |        1.773        |       -0.7118        |  2012-05-03 10:56:25.050000   |        0.0         |        3.0         |\n",
      "|  25%  | 71.72670833333333 |       2.862        |      9.47625       |      9.866875      |       20.165       |       25.51        |       0.76375       |       108.8        |       14.27        | 70.91749999999999  |       12.42        |       65.86       |       68.0        |       4.335        |       2.0855        | -0.07175000000000001 | 2012-05-04 09:43:55.049999872 |        6.0         |        4.0         |\n",
      "|  50%  |       76.31       |        3.61        |       10.55        |       10.98        |       43.55        |       35.41        |        1.421        |       252.1        | 15.349795918367345 |       84.09        |       14.05        | 67.84555555555555 |       69.6        |       4.482        |       2.1748        |        0.1217        |  2012-05-06 10:17:21.260000   |        11.0        |        6.0         |\n",
      "|  75%  |     79.738125     |       5.359        |       15.015       |       15.375       | 223.39999999999998 |       89.515       |        2.094        |       724.4        | 16.705535714285716 |  90.2682283464567  | 16.302500000000002 |       70.16       |       70.97       |       4.664        |        2.234        |       0.29745        |  2012-05-07 09:21:51.260000   |        17.0        |        7.0         |\n",
      "|  max  |       95.19       |       12.96        |       465.4        |       491.9        |       1505.0       |       940.4        |        5.747        |      26849.0       |       24.24        |       125.1        |       29.64        |       77.02       | 74.06166666666667 |       5.436        |  2.650333333333333  |        0.8542        |  2012-05-08 09:46:21.260000   |        23.0        |        8.0         |\n",
      "|  std  | 6.888117795186037 | 2.1135137353368187 | 24.340770175138257 | 26.805064128812546 | 184.2461324186039  | 101.15569811733988 |  1.108495316642304  | 1332.9903618163416 |  2.18922930150197  | 15.359537972492863 | 3.087576744060301  | 2.880674374976847 | 2.444975934351579 | 0.3403616109633724 | 0.17387236187075392 |  0.2670395334392261  |              nan              | 6.832611244049082  | 1.5633140039043463 |\n",
      "+-------+-------------------+--------------------+--------------------+--------------------+--------------------+--------------------+---------------------+--------------------+--------------------+--------------------+--------------------+-------------------+-------------------+--------------------+---------------------+----------------------+-------------------------------+--------------------+--------------------+\n",
      "\n",
      "\n",
      "DataFrame: PAC10_cleaned\n",
      "+-------+-------------------+--------------------+--------------------+--------------------+--------------------+--------------------+---------------------+--------------------+-------------------+-------------------+--------------------+--------------------+---------------------+-------------------------------+--------------------+-------------------+\n",
      "|       |        ABP        |   ABP_BaroIndex    | ABP_HRVstats_RMSSD | ABP_HRVstats_SDSD  |   ABP_HRVpsd_LF    |   ABP_HRVpsd_HF    | ABP_HRVpsd_LF_to_HF |   ABP_HRVpsd_TP    |    ABP_FundAmp    |        HR         |        ICP         |       ETCO2        |         Prx         |             time              |        hour        |        day        |\n",
      "+-------+-------------------+--------------------+--------------------+--------------------+--------------------+--------------------+---------------------+--------------------+-------------------+-------------------+--------------------+--------------------+---------------------+-------------------------------+--------------------+-------------------+\n",
      "| count |      6313.0       |       6313.0       |       6313.0       |       6311.0       |       6313.0       |       6282.0       |       6313.0        |       6281.0       |      6313.0       |      6313.0       |       6313.0       |       6313.0       |       6313.0        |             6313              |       6313.0       |      6313.0       |\n",
      "| mean  | 83.68025697920517 | 6.1478323165821855 | 15.876918295336097 | 16.618553619394948 | 140.53735811669182 | 95.48156954143703  | 1.3854398583733363  | 782.4391569191661  | 17.86206330837396 | 81.04041796783659 |  8.53042114006323  | 4.878886617201622  | 0.07762445430064945 | 2012-05-23 20:55:34.493002752 | 11.049897037858388 | 23.39062252494852 |\n",
      "|  min  |       59.62       |       0.8526       |       6.868        |       7.372        |       5.877        |       6.786        |       0.2084        |        57.7        |       8.236       |      52.635       |       -1.389       |       3.387        |       -0.9161       |  2012-05-21 09:49:29.044000   |        0.0         |       21.0        |\n",
      "|  25%  | 77.04666666666667 |       3.862        |       11.14        | 11.493500000000001 |      29.2344       |       26.18        |       0.8662        |       187.5        |      16.6425      |       68.14       |       5.934        |       4.2875       |       -0.1734       |  2012-05-22 14:28:29.044000   |        5.0         |       22.0        |\n",
      "|  50%  |       82.3        |       5.496        |       13.785       |       14.51        |      79.6175       |       60.125       |        1.15         |       428.0        |       17.83       |       80.81       |       8.252        |       4.558        |       0.0641        |  2012-05-23 18:06:29.044000   |        11.0        |       23.0        |\n",
      "|  75%  |       89.4        |        7.77        | 18.793333333333333 |       19.564       |       181.6        | 134.66506493506495 |        1.598        |       910.9        |      19.015       |       92.04       |       11.11        | 5.398131147540984  |       0.3271        | 2012-05-25 06:16:53.307000064 |        17.0        |       25.0        |\n",
      "|  max  |       111.5       |       24.08        |       155.3        |       117.1        |       1527.0       |       538.7        |       5.0245        |      12435.0       |       27.35       |       129.3       |       21.79        |       6.638        |       0.9774        |  2012-05-26 09:47:37.547000   |        23.0        |       26.0        |\n",
      "|  std  | 8.836443581445996 | 3.1570081638392296 | 7.783823675994045  | 7.867375782995738  | 164.76092944499848 | 93.15806066839603  | 0.7589791653915398  | 1191.4817732797037 | 2.291698609304079 | 16.3226774219378  | 3.5936536481974124 | 0.7607842352531328 | 0.3572844863629475  |              nan              | 7.087754332329528  | 1.535321604504444 |\n",
      "+-------+-------------------+--------------------+--------------------+--------------------+--------------------+--------------------+---------------------+--------------------+-------------------+-------------------+--------------------+--------------------+---------------------+-------------------------------+--------------------+-------------------+\n",
      "\n",
      "\n"
     ]
    }
   ],
   "execution_count": 7
  },
  {
   "cell_type": "code",
   "metadata": {
    "jupyter": {
     "is_executing": true
    },
    "ExecuteTime": {
     "start_time": "2024-08-08T10:15:22.690293Z"
    }
   },
   "source": [
    "for patient in data_frames:\n",
    "  sns.pairplot(data_frames[patient], diag_kind='kde', plot_kws={'alpha':0.5, 's':80, 'edgecolor':'k'}, height=2)"
   ],
   "outputs": [
    {
     "name": "stderr",
     "output_type": "stream",
     "text": [
      "C:\\Users\\Domin\\anaconda3\\Lib\\site-packages\\seaborn\\_oldcore.py:1119: FutureWarning: use_inf_as_na option is deprecated and will be removed in a future version. Convert inf values to NaN before operating instead.\n",
      "  with pd.option_context('mode.use_inf_as_na', True):\n",
      "C:\\Users\\Domin\\anaconda3\\Lib\\site-packages\\seaborn\\_oldcore.py:1119: FutureWarning: use_inf_as_na option is deprecated and will be removed in a future version. Convert inf values to NaN before operating instead.\n",
      "  with pd.option_context('mode.use_inf_as_na', True):\n",
      "C:\\Users\\Domin\\anaconda3\\Lib\\site-packages\\seaborn\\_oldcore.py:1119: FutureWarning: use_inf_as_na option is deprecated and will be removed in a future version. Convert inf values to NaN before operating instead.\n",
      "  with pd.option_context('mode.use_inf_as_na', True):\n",
      "C:\\Users\\Domin\\anaconda3\\Lib\\site-packages\\seaborn\\_oldcore.py:1119: FutureWarning: use_inf_as_na option is deprecated and will be removed in a future version. Convert inf values to NaN before operating instead.\n",
      "  with pd.option_context('mode.use_inf_as_na', True):\n",
      "C:\\Users\\Domin\\anaconda3\\Lib\\site-packages\\seaborn\\_oldcore.py:1119: FutureWarning: use_inf_as_na option is deprecated and will be removed in a future version. Convert inf values to NaN before operating instead.\n",
      "  with pd.option_context('mode.use_inf_as_na', True):\n",
      "C:\\Users\\Domin\\anaconda3\\Lib\\site-packages\\seaborn\\_oldcore.py:1119: FutureWarning: use_inf_as_na option is deprecated and will be removed in a future version. Convert inf values to NaN before operating instead.\n",
      "  with pd.option_context('mode.use_inf_as_na', True):\n",
      "C:\\Users\\Domin\\anaconda3\\Lib\\site-packages\\seaborn\\_oldcore.py:1119: FutureWarning: use_inf_as_na option is deprecated and will be removed in a future version. Convert inf values to NaN before operating instead.\n",
      "  with pd.option_context('mode.use_inf_as_na', True):\n",
      "C:\\Users\\Domin\\anaconda3\\Lib\\site-packages\\seaborn\\_oldcore.py:1119: FutureWarning: use_inf_as_na option is deprecated and will be removed in a future version. Convert inf values to NaN before operating instead.\n",
      "  with pd.option_context('mode.use_inf_as_na', True):\n",
      "C:\\Users\\Domin\\anaconda3\\Lib\\site-packages\\seaborn\\_oldcore.py:1119: FutureWarning: use_inf_as_na option is deprecated and will be removed in a future version. Convert inf values to NaN before operating instead.\n",
      "  with pd.option_context('mode.use_inf_as_na', True):\n",
      "C:\\Users\\Domin\\anaconda3\\Lib\\site-packages\\seaborn\\_oldcore.py:1119: FutureWarning: use_inf_as_na option is deprecated and will be removed in a future version. Convert inf values to NaN before operating instead.\n",
      "  with pd.option_context('mode.use_inf_as_na', True):\n",
      "C:\\Users\\Domin\\anaconda3\\Lib\\site-packages\\seaborn\\_oldcore.py:1119: FutureWarning: use_inf_as_na option is deprecated and will be removed in a future version. Convert inf values to NaN before operating instead.\n",
      "  with pd.option_context('mode.use_inf_as_na', True):\n",
      "C:\\Users\\Domin\\anaconda3\\Lib\\site-packages\\seaborn\\_oldcore.py:1119: FutureWarning: use_inf_as_na option is deprecated and will be removed in a future version. Convert inf values to NaN before operating instead.\n",
      "  with pd.option_context('mode.use_inf_as_na', True):\n",
      "C:\\Users\\Domin\\anaconda3\\Lib\\site-packages\\seaborn\\_oldcore.py:1119: FutureWarning: use_inf_as_na option is deprecated and will be removed in a future version. Convert inf values to NaN before operating instead.\n",
      "  with pd.option_context('mode.use_inf_as_na', True):\n",
      "C:\\Users\\Domin\\anaconda3\\Lib\\site-packages\\seaborn\\_oldcore.py:1119: FutureWarning: use_inf_as_na option is deprecated and will be removed in a future version. Convert inf values to NaN before operating instead.\n",
      "  with pd.option_context('mode.use_inf_as_na', True):\n",
      "C:\\Users\\Domin\\anaconda3\\Lib\\site-packages\\seaborn\\_oldcore.py:1119: FutureWarning: use_inf_as_na option is deprecated and will be removed in a future version. Convert inf values to NaN before operating instead.\n",
      "  with pd.option_context('mode.use_inf_as_na', True):\n",
      "C:\\Users\\Domin\\anaconda3\\Lib\\site-packages\\seaborn\\_oldcore.py:1119: FutureWarning: use_inf_as_na option is deprecated and will be removed in a future version. Convert inf values to NaN before operating instead.\n",
      "  with pd.option_context('mode.use_inf_as_na', True):\n",
      "C:\\Users\\Domin\\anaconda3\\Lib\\site-packages\\seaborn\\_oldcore.py:1119: FutureWarning: use_inf_as_na option is deprecated and will be removed in a future version. Convert inf values to NaN before operating instead.\n",
      "  with pd.option_context('mode.use_inf_as_na', True):\n",
      "C:\\Users\\Domin\\anaconda3\\Lib\\site-packages\\seaborn\\_oldcore.py:1119: FutureWarning: use_inf_as_na option is deprecated and will be removed in a future version. Convert inf values to NaN before operating instead.\n",
      "  with pd.option_context('mode.use_inf_as_na', True):\n",
      "C:\\Users\\Domin\\anaconda3\\Lib\\site-packages\\seaborn\\_oldcore.py:1119: FutureWarning: use_inf_as_na option is deprecated and will be removed in a future version. Convert inf values to NaN before operating instead.\n",
      "  with pd.option_context('mode.use_inf_as_na', True):\n",
      "C:\\Users\\Domin\\anaconda3\\Lib\\site-packages\\seaborn\\_oldcore.py:1119: FutureWarning: use_inf_as_na option is deprecated and will be removed in a future version. Convert inf values to NaN before operating instead.\n",
      "  with pd.option_context('mode.use_inf_as_na', True):\n",
      "C:\\Users\\Domin\\anaconda3\\Lib\\site-packages\\seaborn\\_oldcore.py:1119: FutureWarning: use_inf_as_na option is deprecated and will be removed in a future version. Convert inf values to NaN before operating instead.\n",
      "  with pd.option_context('mode.use_inf_as_na', True):\n",
      "C:\\Users\\Domin\\anaconda3\\Lib\\site-packages\\seaborn\\_oldcore.py:1119: FutureWarning: use_inf_as_na option is deprecated and will be removed in a future version. Convert inf values to NaN before operating instead.\n",
      "  with pd.option_context('mode.use_inf_as_na', True):\n",
      "C:\\Users\\Domin\\anaconda3\\Lib\\site-packages\\seaborn\\_oldcore.py:1119: FutureWarning: use_inf_as_na option is deprecated and will be removed in a future version. Convert inf values to NaN before operating instead.\n",
      "  with pd.option_context('mode.use_inf_as_na', True):\n",
      "C:\\Users\\Domin\\anaconda3\\Lib\\site-packages\\seaborn\\_oldcore.py:1119: FutureWarning: use_inf_as_na option is deprecated and will be removed in a future version. Convert inf values to NaN before operating instead.\n",
      "  with pd.option_context('mode.use_inf_as_na', True):\n",
      "C:\\Users\\Domin\\anaconda3\\Lib\\site-packages\\seaborn\\_oldcore.py:1119: FutureWarning: use_inf_as_na option is deprecated and will be removed in a future version. Convert inf values to NaN before operating instead.\n",
      "  with pd.option_context('mode.use_inf_as_na', True):\n",
      "C:\\Users\\Domin\\anaconda3\\Lib\\site-packages\\seaborn\\_oldcore.py:1119: FutureWarning: use_inf_as_na option is deprecated and will be removed in a future version. Convert inf values to NaN before operating instead.\n",
      "  with pd.option_context('mode.use_inf_as_na', True):\n",
      "C:\\Users\\Domin\\anaconda3\\Lib\\site-packages\\seaborn\\_oldcore.py:1119: FutureWarning: use_inf_as_na option is deprecated and will be removed in a future version. Convert inf values to NaN before operating instead.\n",
      "  with pd.option_context('mode.use_inf_as_na', True):\n",
      "C:\\Users\\Domin\\anaconda3\\Lib\\site-packages\\seaborn\\_oldcore.py:1119: FutureWarning: use_inf_as_na option is deprecated and will be removed in a future version. Convert inf values to NaN before operating instead.\n",
      "  with pd.option_context('mode.use_inf_as_na', True):\n",
      "C:\\Users\\Domin\\anaconda3\\Lib\\site-packages\\seaborn\\_oldcore.py:1119: FutureWarning: use_inf_as_na option is deprecated and will be removed in a future version. Convert inf values to NaN before operating instead.\n",
      "  with pd.option_context('mode.use_inf_as_na', True):\n",
      "C:\\Users\\Domin\\anaconda3\\Lib\\site-packages\\seaborn\\_oldcore.py:1119: FutureWarning: use_inf_as_na option is deprecated and will be removed in a future version. Convert inf values to NaN before operating instead.\n",
      "  with pd.option_context('mode.use_inf_as_na', True):\n"
     ]
    }
   ],
   "execution_count": null
  },
  {
   "cell_type": "markdown",
   "metadata": {},
   "source": [
    "---"
   ]
  },
  {
   "cell_type": "markdown",
   "metadata": {},
   "source": [
    "## Correlation"
   ]
  },
  {
   "cell_type": "markdown",
   "metadata": {},
   "source": [
    "- Compute the correlation among dataset variables to identify relationships.\n",
    "- Visualize these correlations using a heatmap, aiding in the selection of variables beneficial for model training.\n",
    "- Capture the correlation metrics in the `corr_values` variable, designated as a `list`.\n",
    "- Transform the correlation data to facilitate comparison of ABP-related correlations among different patients.\n",
    "- Employ a PairGrid plot to illustrate the comparison of correlation metrics across patients."
   ]
  },
  {
   "cell_type": "code",
   "metadata": {
    "jupyter": {
     "is_executing": true
    }
   },
   "source": [
    "def corr_melt(corr):\n",
    "    \"\"\"\n",
    "    Melt correlation matrix to be used to compare correlation between patients\n",
    "    \n",
    "    Args:\n",
    "        df (DataFrame): Dataframe to melt\n",
    "        \n",
    "    Returns:\n",
    "        df_melt (DataFrame): Melted dataframe\n",
    "    \"\"\"\n",
    "    abp_corr = corr['ABP'].reset_index()    \n",
    "    corr_melted = abp_corr.melt(id_vars = ['ABP'])\n",
    "    corr_melted['patient'] = key\n",
    "    return corr_melted"
   ],
   "outputs": [],
   "execution_count": null
  },
  {
   "cell_type": "code",
   "metadata": {
    "jupyter": {
     "is_executing": true
    }
   },
   "source": [
    "corr_values = []\n",
    "for key, df in tqdm(data_frames.items()):\n",
    "    data_frames[key] = df.dropna()\n",
    "    plt.figure(figsize=(20, 20)) \n",
    "    corr = data_frames[key].corr()\n",
    "    corr_values.append(corr_melt(corr))\n",
    "    sns.heatmap(corr, annot=True, cmap='coolwarm', square=True)\n",
    "    plt.show()"
   ],
   "outputs": [],
   "execution_count": null
  },
  {
   "cell_type": "markdown",
   "metadata": {},
   "source": [
    "### Correlation between patients"
   ]
  },
  {
   "cell_type": "markdown",
   "metadata": {},
   "source": [
    "The analysis reveals that `FundAmp` demonstrates the highest and most consistent correlation among the columns. This observation suggests that features in the **frequency domain** could be particularly valuable for model training."
   ]
  },
  {
   "cell_type": "code",
   "metadata": {
    "jupyter": {
     "is_executing": true
    }
   },
   "source": [
    "# Concatenate all correlation values into a single DataFrame for visualization\n",
    "corr_values_df = pd.concat(corr_values)\n",
    "\n",
    "# Set the visual theme for the seaborn plots\n",
    "sns.set_theme(style=\"whitegrid\")\n",
    "\n",
    "# Initialize a PairGrid object for plotting, specifying the DataFrame, variables, and aesthetics\n",
    "g = sns.PairGrid(corr_values_df, y_vars='value', x_vars='ABP', hue='patient', height=10, aspect=2)\n",
    "\n",
    "# Map a stripplot to the PairGrid, configuring its appearance and behavior\n",
    "g.map(sns.stripplot, size=10, orient=\"h\", jitter=False,\n",
    "      palette=\"flare_r\", linewidth=1, edgecolor=\"w\")\n",
    "\n",
    "# Set the labels for the x and y axes\n",
    "g.set(xlabel='Correlation', ylabel='Values')\n",
    "\n",
    "# Add a legend to the plot to identify each patient by color\n",
    "g.add_legend()\n",
    "\n",
    "# Iterate over each subplot in the PairGrid to set individual titles and enable grid lines on the y-axis\n",
    "for ax, title in zip(g.axes.flat, data_frames.keys()):\n",
    "    ax.set(title=title)  # Set the title for each subplot based on patient data\n",
    "    ax.yaxis.grid(True)  # Enable grid lines on the y-axis for better readability\n",
    "\n",
    "# Remove the top and right spines from the plot for a cleaner look\n",
    "sns.despine(left=True, bottom=True)\n",
    "\n",
    "# Display the plot\n",
    "plt.show()"
   ],
   "outputs": [],
   "execution_count": null
  },
  {
   "cell_type": "markdown",
   "metadata": {},
   "source": "Based on this preliminary analysis, we can conclude that `ABP_Fund_Amp` exhibits  strongest and most stable correlation with ABP recordings."
  },
  {
   "cell_type": "markdown",
   "metadata": {},
   "source": [
    "---"
   ]
  },
  {
   "cell_type": "markdown",
   "metadata": {},
   "source": [
    "## Data Seasonality"
   ]
  },
  {
   "cell_type": "markdown",
   "metadata": {},
   "source": [
    "- perform Seasonal decomposition of Data\n",
    "\n"
   ]
  },
  {
   "metadata": {
    "jupyter": {
     "is_executing": true
    }
   },
   "cell_type": "code",
   "source": [
    "# D - checking the sizes of data that are being put into seasonal decomposition\n",
    "for patient, df in data_frames.items():\n",
    "    print(f\"Data for patient: {patient}\")\n",
    "    df.info()\n",
    "    print(\"\\n\")"
   ],
   "outputs": [],
   "execution_count": null
  },
  {
   "metadata": {
    "jupyter": {
     "is_executing": true
    }
   },
   "cell_type": "code",
   "source": [
    "for patient in data_frames.keys():\n",
    "\n",
    "    subset_size = 1000\n",
    "    subset = data_frames[patient].iloc[:subset_size]\n",
    "    result = seasonal_decompose(subset['ABP'], period=60, model='additive')\n",
    "    result.plot()\n",
    "    plt.show()"
   ],
   "outputs": [],
   "execution_count": null
  },
  {
   "metadata": {},
   "cell_type": "markdown",
   "source": "Reduced sample allowed for quicker computation. Period 60 was chosen based on hourly seasonal changes (data is recorded every minute)."
  },
  {
   "cell_type": "code",
   "metadata": {
    "jupyter": {
     "is_executing": true
    }
   },
   "source": [
    "for patient in data_frames.keys():\n",
    "    data_frames[patient]['ABP'] = pd.to_numeric(data_frames[patient]['ABP'])\n",
    "    result = seasonal_decompose(data_frames[patient]['ABP'], period=60, model='additive')\n",
    "    result.plot()\n",
    "    plt.show()"
   ],
   "outputs": [],
   "execution_count": null
  },
  {
   "cell_type": "markdown",
   "metadata": {},
   "source": [
    "---"
   ]
  },
  {
   "cell_type": "markdown",
   "metadata": {},
   "source": [
    "## Autocorrelation"
   ]
  },
  {
   "cell_type": "markdown",
   "metadata": {},
   "source": [
    "- Perform autocorelation study on dataset \n",
    "- Data seeems to exhibts high autocorrelation\n",
    "  \n",
    "    "
   ]
  },
  {
   "cell_type": "code",
   "metadata": {
    "jupyter": {
     "is_executing": true
    }
   },
   "source": [
    "for patient in data_frames.keys():\n",
    "  acf_values = acf(data_frames[patient]['ABP'], nlags=100)\n",
    "  q_values, p_values = q_stat(acf_values[1:], len(data_frames[patient]['ABP']))\n",
    "  print('P-values from Ljung-Box Test:', p_values)"
   ],
   "outputs": [],
   "execution_count": null
  },
  {
   "metadata": {},
   "cell_type": "markdown",
   "source": "After rejecting null-hypothesis next step is to show the ACF/PACF plots. This will help acknowledge the autocorrelation better. First I will check for stationarity."
  },
  {
   "metadata": {
    "jupyter": {
     "is_executing": true
    }
   },
   "cell_type": "code",
   "source": [
    "from statsmodels.tsa.stattools import adfuller\n",
    "for patient in data_frames.keys():\n",
    "    \n",
    "    result = adfuller(data_frames[patient]['ABP'])\n",
    "    \n",
    "    print('ADF Statistic: %f' % result[0])\n",
    "    print('p-value: %f' % result[1])\n",
    "    print('Critical Values:')\n",
    "    for key, value in result[4].items():\n",
    "        print('\\t%s: %.3f' % (key, value))"
   ],
   "outputs": [],
   "execution_count": null
  },
  {
   "metadata": {},
   "cell_type": "markdown",
   "source": "When stationarity confirmed I continue to plot acf and pacf."
  },
  {
   "metadata": {
    "jupyter": {
     "is_executing": true
    }
   },
   "cell_type": "code",
   "source": [
    "import matplotlib.pyplot as plt\n",
    "from statsmodels.graphics.tsaplots import plot_acf, plot_pacf\n",
    "\n",
    "for patient in data_frames.keys():\n",
    "\n",
    "    plt.figure(figsize=(12,4))\n",
    "    plot_acf(data_frames[patient]['ABP'], lags=100, ax=plt.gca())\n",
    "    plt.title('Autocorrelation plot of ABP')\n",
    "    plt.show()\n",
    "    \n",
    "    plt.figure(figsize=(12,4))\n",
    "    plot_pacf(data_frames[patient]['ABP'], lags=100, ax=plt.gca())\n",
    "    plt.title('Partial Autocorrelation plot of ABP')\n",
    "    plt.show()"
   ],
   "outputs": [],
   "execution_count": null
  },
  {
   "metadata": {},
   "cell_type": "markdown",
   "source": "ACF and PACF look consistent across all patients datasets. There is a very strong autocorrelation out of confidence interval throughout whole 100 lags and beyond. Autocorrelation slowly fades."
  },
  {
   "cell_type": "markdown",
   "metadata": {},
   "source": [
    "---"
   ]
  },
  {
   "cell_type": "markdown",
   "metadata": {},
   "source": [
    "## Feature Engineering"
   ]
  },
  {
   "cell_type": "markdown",
   "metadata": {},
   "source": [
    "### Additional descriptors "
   ]
  },
  {
   "cell_type": "markdown",
   "metadata": {},
   "source": [
    "#### Neurokit - Frequency Features"
   ]
  },
  {
   "cell_type": "markdown",
   "metadata": {},
   "source": [
    "To derive frequency domain HRV (Heart Rate Variability) features, it was initially believed that analyzing 1-hour long recordings would be beneficial. However, this approach proved to be misleading. The dataset comprises numerous HRV recordings, which are aggregated by a device into one-minute average samples. Due to this aggregation, accessing specific HRV features is impractical because the sampling frequency is too low to support detailed frequency domain analysis."
   ]
  },
  {
   "cell_type": "markdown",
   "metadata": {},
   "source": [
    "#### close to 1 hour long non medical features"
   ]
  },
  {
   "cell_type": "markdown",
   "metadata": {},
   "source": [
    "Altho we cannot acces Neurokit Features it might be beneficial to own one hour long recordings and calculate features based on them\n",
    "<span style=\"color: red;\">- dominik</span> "
   ]
  },
  {
   "cell_type": "markdown",
   "metadata": {},
   "source": [
    "- Calculate time_diffs.\n",
    "- Calculate avg time diffs in seconds.\n",
    "- Create windows based on avg time diffs and selected window size.\n",
    "- Store those windows in `windows_from_all_patients` variable.\n",
    "- plot data of a patient sliced to 1 hour windows."
   ]
  },
  {
   "cell_type": "markdown",
   "metadata": {},
   "source": [
    "`windows_from_all_patients` structure:\n",
    "| Key        | Type   | Value          | Type              |List[Type] |\n",
    "|------------|--------|----------------|-------------------|-----------|\n",
    "| `file_name`| string |    `windows`    |       `list`      | `pd.DataFrame`|"
   ]
  },
  {
   "cell_type": "code",
   "metadata": {
    "jupyter": {
     "is_executing": true
    }
   },
   "source": [
    "for patient in data_frames.keys():\n",
    "  data_frames[patient].reset_index(inplace=True)\n",
    "  \n",
    "  time_diffs = data_frames[patient]['time'].diff().dropna()\n",
    "  time_diffs_in_seconds = time_diffs.dt.total_seconds()\n",
    "    \n",
    "  average_sampling_interval = time_diffs_in_seconds.mean()\n",
    "  print(\"Average Sampling Interval for Patient\", patient, \":\", average_sampling_interval, \"seconds\")\n",
    "  \n",
    "  data_frames[patient].set_index('DateTime', inplace=True)"
   ],
   "outputs": [],
   "execution_count": null
  },
  {
   "cell_type": "code",
   "metadata": {
    "jupyter": {
     "is_executing": true
    }
   },
   "source": [
    "def create_windows(df, window_size_in_minutes, average_sampling_interval):\n",
    "    \"\"\"\n",
    "    This function creates windows of the given size from the data.\n",
    "    \n",
    "    Parameters\n",
    "    ----------\n",
    "    df : pandas.DataFrame\n",
    "        The dataframe containing the data.\n",
    "    window_size_in_minutes : int\n",
    "        The size of the window in minutes.\n",
    "    sampling_frequency : float\n",
    "        The sampling frequency of the data.\n",
    "    \n",
    "    Returns\n",
    "    -------\n",
    "    windows : pandas.DataFrame\n",
    "        The windows of the given size.\n",
    "        \n",
    "    Notes:\n",
    "    ------\n",
    "    \n",
    "    Window Size Calculation:\n",
    "    \n",
    "    The function first converts the window_size_in_minutes \n",
    "    into seconds by multiplying it by 60. It then calculates \n",
    "    the number of samples that fit into a window of the \n",
    "    specified size, given the average_sampling_interval. \n",
    "    This is done by dividing the window size in seconds by the \n",
    "    avg sampling interval in seconds, resulting in the window size \n",
    "    in samples. The result is rounded down to the nearest \n",
    "    integer to ensure that only complete samples are included\n",
    "    in each window.\n",
    "    \n",
    "    Window Creation:\n",
    "    \n",
    "    The function initializes an empty list, windows, to store \n",
    "    the resulting windows. It then iterates over the DataFrame \n",
    "    in steps equal to the calculated window size in samples. \n",
    "    For each iteration, it selects a slice of the DataFrame \n",
    "    corresponding to the current window and appends this slice \n",
    "    to the windows list.\n",
    "    \n",
    "    \"\"\"\n",
    "    windows = []\n",
    "    window_size_in_seconds = window_size_in_minutes * 60\n",
    "    \n",
    "    window_size_in_samples = window_size_in_seconds / average_sampling_interval\n",
    "    window_size_in_samples = np.floor(window_size_in_samples).astype(int)\n",
    "    print(f\"Window size in samples: {window_size_in_samples}\")\n",
    "    for i in range(0, len(df), window_size_in_samples):\n",
    "        window = df.iloc[i:i + window_size_in_samples]\n",
    "        windows.append(window)\n",
    "    \n",
    "    return windows  # return only the first window"
   ],
   "outputs": [],
   "execution_count": null
  },
  {
   "cell_type": "code",
   "metadata": {
    "jupyter": {
     "is_executing": true
    }
   },
   "source": [
    "windows_from_all_patients = {}\n",
    "for patient in tqdm(data_frames.keys()):\n",
    "    all_windows = create_windows(data_frames[patient], 60, average_sampling_interval)\n",
    "    windows_from_all_patients[patient] = all_windows\n",
    "    print(f\"Number of windows: {len(all_windows)}\")"
   ],
   "outputs": [],
   "execution_count": null
  },
  {
   "cell_type": "code",
   "metadata": {
    "jupyter": {
     "is_executing": true
    }
   },
   "source": [
    "for patient_data, values in windows_from_all_patients.items():\n",
    "    plt.figure(figsize=(20, 10))\n",
    "    for vvalue in values:\n",
    "        plt.plot(vvalue['ABP'])\n",
    "    plt.show()"
   ],
   "outputs": [],
   "execution_count": null
  },
  {
   "cell_type": "markdown",
   "metadata": {},
   "source": [
    "---"
   ]
  },
  {
   "cell_type": "markdown",
   "metadata": {},
   "source": [
    "## Save data"
   ]
  },
  {
   "cell_type": "code",
   "metadata": {
    "jupyter": {
     "is_executing": true
    }
   },
   "source": [
    "if not os.path.exists('data_to_learn'):\n",
    "    os.makedirs('data_to_learn')"
   ],
   "outputs": [],
   "execution_count": null
  },
  {
   "cell_type": "code",
   "metadata": {
    "jupyter": {
     "is_executing": true
    }
   },
   "source": [
    "for patient in data_frames.keys():\n",
    "    data_frames[patient].to_csv(f\"data_to_learn/{patient}_data_to_learn.csv\")"
   ],
   "outputs": [],
   "execution_count": null
  },
  {
   "metadata": {},
   "cell_type": "markdown",
   "source": "---"
  },
  {
   "metadata": {},
   "cell_type": "markdown",
   "source": "Feature engineering part. I decided to start of with features based on window statistics."
  },
  {
   "metadata": {
    "jupyter": {
     "is_executing": true
    }
   },
   "cell_type": "code",
   "source": [
    "import tqdm\n",
    "def feature_engineering(df):\n",
    "    \"\"\"\n",
    "    Perform feature engineering on a given dataframe.\n",
    "    \n",
    "    Args:\n",
    "        df (DataFrame): DataFrame containing the time series data.\n",
    "        \n",
    "    Returns:\n",
    "        features (DataFrame): DataFrame containing engineered features.\n",
    "    \"\"\"\n",
    "    if len(df) < 60:\n",
    "        # Return an empty DataFrame if there are not enough \n",
    "        return pd.DataFrame()\n",
    "    \n",
    "    features = pd.DataFrame(index=df.index)\n",
    "\n",
    "    features['mean'] = df['ABP'].rolling(window=60).mean()\n",
    "    features['std'] = df['ABP'].rolling(window=60).std()\n",
    "    features['min'] = df['ABP'].rolling(window=60).min()\n",
    "    features['max'] = df['ABP'].rolling(window=60).max()\n",
    "    features['median'] = df['ABP'].rolling(window=60).median()\n",
    "    features['range'] = features['max'] - features['min']\n",
    "    features['skew'] = df['ABP'].rolling(window=60).apply(skew, raw=True)\n",
    "    features['kurtosis'] = df['ABP'].rolling(window=60).apply(kurtosis, raw=True)\n",
    "    \n",
    "    features['rolling_mean'] = df['ABP'].rolling(window=60).mean()\n",
    "    features['rolling_std'] = df['ABP'].rolling(window=60).std()\n",
    "    features['expanding_mean'] = df['ABP'].expanding().mean()\n",
    "    features['expanding_std'] = df['ABP'].expanding().std()\n",
    "    \n",
    "    for lag in range(1, 4): \n",
    "        features[f'lag_{lag}'] = df['ABP'].shift(lag)\n",
    "    \n",
    "    features = features.dropna()\n",
    "    \n",
    "    return features\n",
    "\n",
    "# I will hold the results in dictionaries below\n",
    "engineered_features = {}\n",
    "scaled_features = {}\n",
    "\n",
    "for patient, windows in tqdm(windows_from_all_patients.items(), desc=\"Processing patients\"):\n",
    "    patient_features = []\n",
    "    \n",
    "    for window in windows:\n",
    "        window_features = feature_engineering(window)\n",
    "        \n",
    "        # check in case the window is empty?\n",
    "        if not window_features.empty:  \n",
    "            patient_features.append(window_features)\n",
    "    \n",
    "    if patient_features:  \n",
    "        engineered_features[patient] = pd.concat(patient_features)\n",
    "    else:\n",
    "        engineered_features[patient] = pd.DataFrame() \n",
    "\n",
    "\n",
    "scaler = StandardScaler()\n",
    "\n",
    "for patient, features in engineered_features.items():\n",
    "    if not features.empty:\n",
    "        scaled_features[patient] = scaler.fit_transform(features)\n",
    "        scaled_features[patient] = pd.DataFrame(scaled_features[patient], index=features.index, columns=features.columns)\n",
    "\n",
    "if not os.path.exists('engineered_data'):\n",
    "    os.makedirs('engineered_data')\n",
    "\n",
    "for patient, features in scaled_features.items():\n",
    "    if not features.empty: \n",
    "        features.to_csv(f\"engineered_data/{patient}_engineered.csv\")\n",
    "    else:\n",
    "        print(\"no features saved\")\n",
    "\n",
    "print(\"Feature engineering completed and data saved.\")\n"
   ],
   "outputs": [],
   "execution_count": null
  },
  {
   "metadata": {
    "jupyter": {
     "is_executing": true
    }
   },
   "cell_type": "code",
   "source": "",
   "outputs": [],
   "execution_count": null
  }
 ],
 "metadata": {
  "kernelspec": {
   "display_name": "BrainEnv",
   "language": "python",
   "name": "python3"
  },
  "language_info": {
   "codemirror_mode": {
    "name": "ipython",
    "version": 3
   },
   "file_extension": ".py",
   "mimetype": "text/x-python",
   "name": "python",
   "nbconvert_exporter": "python",
   "pygments_lexer": "ipython3",
   "version": "3.12.3"
  }
 },
 "nbformat": 4,
 "nbformat_minor": 2
}
