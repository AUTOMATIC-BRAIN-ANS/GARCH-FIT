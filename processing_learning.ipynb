{
 "cells": [
  {
   "cell_type": "code",
   "execution_count": 1,
   "metadata": {},
   "outputs": [],
   "source": [
    "FEATURES = ['ABP_BaroIndex', 'ABP_HRVstats_RMSSD', 'ABP_HRVstats_SDSD',\n",
    "       'ABP_HRVpsd_LF', 'ABP_HRVpsd_HF', 'ABP_HRVpsd_LF_to_HF',\n",
    "       'ABP_HRVpsd_TP', 'ABP_FundAmp', 'HR', 'ICP', 'ETCO2', 'Prx',\n",
    "       'hour', 'day']\n",
    "FEATURES_TO_SCALE = ['ABP_BaroIndex', 'ABP_HRVstats_RMSSD', 'ABP_HRVstats_SDSD',\n",
    "       'ABP_HRVpsd_LF', 'ABP_HRVpsd_HF', 'ABP_HRVpsd_LF_to_HF',\n",
    "       'ABP_HRVpsd_TP', 'ABP_FundAmp', 'HR', 'ICP', 'ETCO2', 'Prx']\n",
    "TO_PREDICT = ['ABP']\n",
    "SEED = 42\n",
    "VALIDATION_SIZE = 0.2\n",
    "SCORING = \"neg_mean_absolute_percentage_error\""
   ]
  },
  {
   "cell_type": "code",
   "execution_count": 2,
   "metadata": {
    "vscode": {
     "languageId": "powershell"
    }
   },
   "outputs": [
    {
     "name": "stdout",
     "output_type": "stream",
     "text": [
      "Requirement already satisfied: numpy in c:\\users\\damia\\brainlab\\garch-fit\\brainenv\\lib\\site-packages (2.0.0)\n",
      "Note: you may need to restart the kernel to use updated packages.\n"
     ]
    }
   ],
   "source": [
    "pip install --upgrade numpy"
   ]
  },
  {
   "cell_type": "markdown",
   "metadata": {},
   "source": [
    "## Imports"
   ]
  },
  {
   "cell_type": "code",
   "execution_count": 3,
   "metadata": {},
   "outputs": [],
   "source": [
    "import pandas as pd \n",
    "from pathlib import Path \n",
    "from tqdm import tqdm\n",
    "from sklearn.preprocessing import StandardScaler\n",
    "from sklearn.model_selection import TimeSeriesSplit\n",
    "from sklearn.model_selection import (train_test_split, cross_val_score, KFold, GridSearchCV)"
   ]
  },
  {
   "cell_type": "code",
   "execution_count": 4,
   "metadata": {},
   "outputs": [],
   "source": [
    "data_folder = Path(\"data_to_learn\") \n",
    "all_csv = list(data_folder.glob(\"*.csv\"))"
   ]
  },
  {
   "cell_type": "code",
   "execution_count": 5,
   "metadata": {},
   "outputs": [
    {
     "name": "stderr",
     "output_type": "stream",
     "text": [
      "100%|██████████| 3/3 [00:00<00:00, 26.62it/s]\n"
     ]
    }
   ],
   "source": [
    "data_frames = {}\n",
    "for file in tqdm(all_csv):\n",
    "  df = pd.read_csv(file, sep=\",\", decimal=\".\")\n",
    "  df.set_index('DateTime', inplace=True)\n",
    "  data_frames[file.stem] = df[FEATURES + TO_PREDICT]"
   ]
  },
  {
   "cell_type": "markdown",
   "metadata": {},
   "source": [
    "---"
   ]
  },
  {
   "cell_type": "markdown",
   "metadata": {},
   "source": [
    "## Scalling"
   ]
  },
  {
   "cell_type": "markdown",
   "metadata": {},
   "source": [
    "Do I need to scale `TO_PREDICT`?"
   ]
  },
  {
   "cell_type": "code",
   "execution_count": 6,
   "metadata": {},
   "outputs": [],
   "source": [
    "for patient in data_frames:\n",
    "  df = data_frames[patient]\n",
    "  df = df[FEATURES]\n",
    "  StandardScaler().fit_transform(df)"
   ]
  },
  {
   "cell_type": "markdown",
   "metadata": {},
   "source": [
    "---"
   ]
  },
  {
   "cell_type": "markdown",
   "metadata": {},
   "source": [
    "## Data concactination"
   ]
  },
  {
   "cell_type": "code",
   "execution_count": 7,
   "metadata": {},
   "outputs": [
    {
     "data": {
      "text/plain": [
       "Index(['ABP_BaroIndex', 'ABP_HRVstats_RMSSD', 'ABP_HRVstats_SDSD',\n",
       "       'ABP_HRVpsd_LF', 'ABP_HRVpsd_HF', 'ABP_HRVpsd_LF_to_HF',\n",
       "       'ABP_HRVpsd_TP', 'ABP_FundAmp', 'HR', 'ICP', 'ETCO2', 'Prx', 'hour',\n",
       "       'day', 'ABP'],\n",
       "      dtype='object')"
      ]
     },
     "execution_count": 7,
     "metadata": {},
     "output_type": "execute_result"
    }
   ],
   "source": [
    "learning_data = pd.concat(data_frames.values())\n",
    "learning_data.columns"
   ]
  },
  {
   "cell_type": "markdown",
   "metadata": {},
   "source": [
    "---"
   ]
  },
  {
   "cell_type": "markdown",
   "metadata": {},
   "source": [
    "## Train/test split"
   ]
  },
  {
   "cell_type": "code",
   "execution_count": 8,
   "metadata": {},
   "outputs": [],
   "source": [
    "X = learning_data[FEATURES]\n",
    "y = learning_data[TO_PREDICT]"
   ]
  },
  {
   "cell_type": "code",
   "execution_count": 9,
   "metadata": {},
   "outputs": [],
   "source": [
    "X_train, X_test, y_train, y_test = train_test_split(X, y, test_size=0.2, random_state=42)"
   ]
  },
  {
   "cell_type": "markdown",
   "metadata": {},
   "source": [
    "## Grid Selection"
   ]
  },
  {
   "cell_type": "code",
   "execution_count": 11,
   "metadata": {},
   "outputs": [],
   "source": [
    "from sklearn.model_selection import GridSearchCV\n",
    "from xgboost import XGBRegressor\n",
    "from sklearn.neighbors import KNeighborsRegressor\n",
    "from statsmodels.tsa.statespace.sarimax import SARIMAX\n",
    "from arch import arch_model"
   ]
  },
  {
   "cell_type": "code",
   "execution_count": 13,
   "metadata": {},
   "outputs": [
    {
     "name": "stderr",
     "output_type": "stream",
     "text": [
      "c:\\Users\\damia\\BrainLab\\GARCH-FIT\\BrainEnv\\Lib\\site-packages\\statsmodels\\tsa\\base\\tsa_model.py:473: ValueWarning: A date index has been provided, but it has no associated frequency information and so will be ignored when e.g. forecasting.\n",
      "  self._init_dates(dates, freq)\n",
      "c:\\Users\\damia\\BrainLab\\GARCH-FIT\\BrainEnv\\Lib\\site-packages\\statsmodels\\tsa\\base\\tsa_model.py:473: ValueWarning: A date index has been provided, but it is not monotonic and so will be ignored when e.g. forecasting.\n",
      "  self._init_dates(dates, freq)\n",
      "c:\\Users\\damia\\BrainLab\\GARCH-FIT\\BrainEnv\\Lib\\site-packages\\statsmodels\\tsa\\base\\tsa_model.py:473: ValueWarning: A date index has been provided, but it has no associated frequency information and so will be ignored when e.g. forecasting.\n",
      "  self._init_dates(dates, freq)\n",
      "c:\\Users\\damia\\BrainLab\\GARCH-FIT\\BrainEnv\\Lib\\site-packages\\statsmodels\\tsa\\base\\tsa_model.py:473: ValueWarning: A date index has been provided, but it is not monotonic and so will be ignored when e.g. forecasting.\n",
      "  self._init_dates(dates, freq)\n"
     ]
    }
   ],
   "source": [
    "models = {\n",
    "    \"xgb\": XGBRegressor(),\n",
    "    \"knn\": KNeighborsRegressor(),\n",
    "    \"sarimax\": SARIMAX(y_train, order=(1, 1, 1), seasonal_order=(1, 1, 1, 1440)),\n",
    "    \"garch\": arch_model(y_train, vol='Garch', p=1, o=0, q=1)\n",
    "}"
   ]
  },
  {
   "cell_type": "code",
   "execution_count": null,
   "metadata": {},
   "outputs": [],
   "source": [
    "for name, model in zip(models.keys(), models.values()):\n",
    "  kfold = KFold(n_splits=10, random_state=SEED, shuffle=True)\n",
    "  cv_results = cross_val_score(model, X_train, y_train, cv=kfold, scoring=SCORING)\n",
    "  print(f\"{name}: {cv_results.mean()} ({cv_results.std()})\")"
   ]
  }
 ],
 "metadata": {
  "kernelspec": {
   "display_name": "BrainEnv",
   "language": "python",
   "name": "python3"
  },
  "language_info": {
   "codemirror_mode": {
    "name": "ipython",
    "version": 3
   },
   "file_extension": ".py",
   "mimetype": "text/x-python",
   "name": "python",
   "nbconvert_exporter": "python",
   "pygments_lexer": "ipython3",
   "version": "3.12.3"
  }
 },
 "nbformat": 4,
 "nbformat_minor": 2
}
